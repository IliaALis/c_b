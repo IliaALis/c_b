{
  "nbformat": 4,
  "nbformat_minor": 0,
  "metadata": {
    "colab": {
      "name": "Untitled0.ipynb",
      "provenance": [],
      "collapsed_sections": [
        "OBiLj5nSV0Zb",
        "bejdNCuDDcN7"
      ]
    },
    "kernelspec": {
      "name": "python3",
      "display_name": "Python 3"
    },
    "language_info": {
      "name": "python"
    }
  },
  "cells": [
    {
      "cell_type": "markdown",
      "metadata": {
        "id": "-lwHDfCDXmOJ"
      },
      "source": [
        "## import"
      ]
    },
    {
      "cell_type": "code",
      "metadata": {
        "id": "Msw-kIV3ljtB"
      },
      "source": [
        "import random\n",
        "import nltk\n",
        "import json\n",
        "from sklearn.feature_extraction.text import CountVectorizer, TfidfVectorizer\n",
        "from sklearn.ensemble import RandomForestClassifier\n",
        "from sklearn.datasets import make_classification\n",
        "# import numpy as np\n",
        "from sklearn.model_selection import train_test_split\n",
        "# from sklearn.feature_extraction.text import TfidfVectorizer\n",
        "# from sklearn.linear_model import LogisticRegression"
      ],
      "execution_count": 88,
      "outputs": []
    },
    {
      "cell_type": "markdown",
      "metadata": {
        "id": "OBiLj5nSV0Zb"
      },
      "source": [
        "## some sheets"
      ]
    },
    {
      "cell_type": "code",
      "metadata": {
        "id": "9gOmQGxuWCIY"
      },
      "source": [
        "# text1 = 'mom washed the frame'\n",
        "# text2 = 'mom shook her tits'\n",
        "# text3 = 'mom broke the window and broke the frame by her tits'\n",
        "\n",
        "# vocab = ['mom', 'washed', 'the', 'frame', 'shook', 'her', 'tits', 'broke', 'window', 'and', 'by']\n",
        "# vector_text1 = [1, 1, 1, 1, 0, 0, 0, 0, 0, 0, 0]\n",
        "# vector_text2 = [1, 0, 0, 0, 1, 1, 1, 0, 0, 0, 0]\n",
        "# vector_text3 = [1, 0, 2, 1, 0, 1, 1, 2, 1, 1, 1]\n"
      ],
      "execution_count": null,
      "outputs": []
    },
    {
      "cell_type": "code",
      "metadata": {
        "id": "WO6RD-QTcF88"
      },
      "source": [
        "# corpus = [\n",
        "#     text1,\n",
        "#     text2,\n",
        "#     text3\n",
        "# ]\n",
        "# vectorizer = CountVectorizer()\n",
        "# X = vectorizer.fit_transform(corpus)\n",
        "# vectorizer.get_feature_names()\n",
        "\n",
        "\n",
        "# print(X.toarray())"
      ],
      "execution_count": null,
      "outputs": []
    },
    {
      "cell_type": "markdown",
      "metadata": {
        "id": "bejdNCuDDcN7"
      },
      "source": [
        "## Day 1"
      ]
    },
    {
      "cell_type": "code",
      "metadata": {
        "id": "xESFzZZCc_At"
      },
      "source": [
        "# BOT_CONFIG = {\n",
        "#     'intents':{\n",
        "#         'hello':{\n",
        "#             'examples':['hi', 'hello', 'howdoyoudo'],\n",
        "#             'responses':['good day', 'Hello', 'watsup'],\n",
        "#           },\n",
        "#         'bye':{\n",
        "#             'examples':['bye', 'gOOd bye', 'fuck off'],\n",
        "#             'responses':['good bye', 'see you', 'go fuck yourself'],\n",
        "#           }  \n",
        "#         }, \n",
        "#     'not_found' : {\n",
        "#       'responses':'i don\\'t understand you',\n",
        "#     }\n",
        "# }\n"
      ],
      "execution_count": null,
      "outputs": []
    },
    {
      "cell_type": "code",
      "metadata": {
        "id": "nv5zK01EfuMc"
      },
      "source": [
        "# def clean(text):\n",
        "#   cleaned_text = ''\n",
        "#   for ch in text.lower():\n",
        "#     if ch in 'abcdefghijklmnopqrstuvwxyz ':\n",
        "#       cleaned_text = cleaned_text + ch  \n",
        "#   return cleaned_text\n",
        "\n",
        "\n",
        "# def get_intent(text):\n",
        "#   for intent in BOT_CONFIG['intents'].keys():\n",
        "#     for example in BOT_CONFIG['intents'][intent]['examples']:\n",
        "#       cleaned_example = clean(example)\n",
        "#       cleaned_text = clean(text) \n",
        "#       if nltk.edit_distance(cleaned_example, cleaned_text) / max(len(cleaned_text), len(cleaned_example)) < 0.4:\n",
        "#         return intent\n",
        "#   return 'not_found'\n",
        "\n",
        "\n",
        "# def bot(text):\n",
        "#   intent = get_intent(text)\n",
        "#   if intent != 'not_found':\n",
        "#     return random.choice(BOT_CONFIG['intents'][intent]['responses'])\n",
        "#   else:\n",
        "#     return BOT_CONFIG['not_found']['responses']"
      ],
      "execution_count": null,
      "outputs": []
    },
    {
      "cell_type": "code",
      "metadata": {
        "id": "lfPXHVsRQ73D"
      },
      "source": [
        "# input_text = ''\n",
        "# while input_text != 'exit':\n",
        "#   input_text = input()\n",
        "#   response = bot(input_text)\n",
        "#   print(response)"
      ],
      "execution_count": null,
      "outputs": []
    },
    {
      "cell_type": "markdown",
      "metadata": {
        "id": "9WhUgLeoDl_K"
      },
      "source": [
        "## Day 2"
      ]
    },
    {
      "cell_type": "code",
      "metadata": {
        "id": "WJysfTzpY0ov"
      },
      "source": [
        "with open ('/content/BOT_CONFIG.json') as f:\n",
        "  BOT_CONFIG = json.load(f)"
      ],
      "execution_count": 89,
      "outputs": []
    },
    {
      "cell_type": "markdown",
      "metadata": {
        "id": "Fxxcw5F5jmzX"
      },
      "source": [
        "# Новый раздел"
      ]
    },
    {
      "cell_type": "code",
      "metadata": {
        "id": "lpO3GuzZsphW"
      },
      "source": [
        "f"
      ],
      "execution_count": null,
      "outputs": []
    },
    {
      "cell_type": "code",
      "metadata": {
        "id": "u47Ai7LDemQq"
      },
      "source": [
        "X = []\n",
        "y = []\n",
        "for intent in BOT_CONFIG['intents']:\n",
        "  for example in BOT_CONFIG['intents'][intent]['examples']:\n",
        "    X.append(example)\n",
        "    y.append(intent)\n",
        "\n",
        "X_train, X_test, y_train, y_test = train_test_split(X, y, test_size=0.2, random_state=42)"
      ],
      "execution_count": 90,
      "outputs": []
    },
    {
      "cell_type": "code",
      "metadata": {
        "id": "xDZVLuOBhNrV"
      },
      "source": [
        "y"
      ],
      "execution_count": null,
      "outputs": []
    },
    {
      "cell_type": "code",
      "metadata": {
        "id": "am21IUTLhNeK"
      },
      "source": [
        "X"
      ],
      "execution_count": null,
      "outputs": []
    },
    {
      "cell_type": "code",
      "metadata": {
        "id": "YzmW8MJ_eQTt"
      },
      "source": [
        "vectorizer = CountVectorizer(ngram_range=(1, 3), analyzer='char_wb')\n",
        "# vectorizer = TfidfVectorizer(ngram_range=(1, 3), analyzer='char_wb')\n",
        "X_train_vectorized = vectorizer.fit_transform(X_train)\n",
        "X_test_vectorized = vectorizer.transform(X_test)\n",
        "\n",
        "len(vectorizer.get_feature_names())\n"
      ],
      "execution_count": null,
      "outputs": []
    },
    {
      "cell_type": "code",
      "metadata": {
        "id": "xWhbVILkm8x5"
      },
      "source": [
        "clf = RandomForestClassifier()\n",
        "# clf = LogisticRegression(C=5, max_iter=300)\n",
        "clf.fit(X_train_vectorized, y_train)"
      ],
      "execution_count": null,
      "outputs": []
    },
    {
      "cell_type": "code",
      "metadata": {
        "id": "CXPjv-6bDsmn"
      },
      "source": [
        "clf.score(X_train_vectorized, y_train)"
      ],
      "execution_count": null,
      "outputs": []
    },
    {
      "cell_type": "code",
      "metadata": {
        "id": "gzaMAuYDQHRn"
      },
      "source": [
        "clf.score(X_test_vectorized, y_test)"
      ],
      "execution_count": null,
      "outputs": []
    },
    {
      "cell_type": "code",
      "metadata": {
        "id": "eicv9HfUogdi"
      },
      "source": [
        "# clf.predict(vectorizer.transform(['hi']))"
      ],
      "execution_count": null,
      "outputs": []
    },
    {
      "cell_type": "markdown",
      "metadata": {
        "id": "s_dZ94WiNSr4"
      },
      "source": [
        "## testing"
      ]
    },
    {
      "cell_type": "code",
      "metadata": {
        "id": "35zOzmQVE_kn"
      },
      "source": [
        "def get_intent_by_model(text):\n",
        "  return clf.predict(vectorizer.transform([text]))[0]\n",
        "\n",
        "def bot(text):\n",
        "    intent = get_intent_by_model(text)\n",
        "    return random.choice(BOT_CONFIG['intents'][intent]['responses'])"
      ],
      "execution_count": 95,
      "outputs": []
    },
    {
      "cell_type": "code",
      "metadata": {
        "id": "kJsCfAfbEvY7"
      },
      "source": [
        "input_text = ''\n",
        "while input_text != clean('exit'):\n",
        "   input_text = input()\n",
        "   response = bot(input_text)\n",
        "   print(response)"
      ],
      "execution_count": null,
      "outputs": []
    },
    {
      "cell_type": "markdown",
      "metadata": {
        "id": "fEons4lIeDjr"
      },
      "source": [
        "## deploy to telegramm"
      ]
    },
    {
      "cell_type": "code",
      "metadata": {
        "id": "prRvGrmBeNBd"
      },
      "source": [
        "# !pip install python-telegram-bot --upgrade      # evуry time reinstall"
      ],
      "execution_count": null,
      "outputs": []
    },
    {
      "cell_type": "code",
      "metadata": {
        "id": "3qU90A23eREq"
      },
      "source": [
        ""
      ],
      "execution_count": null,
      "outputs": []
    },
    {
      "cell_type": "code",
      "metadata": {
        "id": "JZ2Op7qPeoqn"
      },
      "source": [
        "import logging\n",
        "\n",
        "from telegram import Update, ForceReply\n",
        "from telegram.ext import Updater, CommandHandler, MessageHandler, Filters, CallbackContext\n",
        "\n",
        "# Enable logging\n",
        "logging.basicConfig(\n",
        "    format='%(asctime)s - %(name)s - %(levelname)s - %(message)s', level=logging.INFO\n",
        ")\n",
        "\n",
        "logger = logging.getLogger(__name__)\n",
        "\n",
        "\n",
        "# Define a few command handlers. These usually take the two arguments update and\n",
        "# context.\n",
        "def start(update: Update, context: CallbackContext) -> None:\n",
        "    \"\"\"Send a message when the command /start is issued.\"\"\"\n",
        "    user = update.effective_user\n",
        "    update.message.reply_markdown_v2(\n",
        "        fr'Hi {user.mention_markdown_v2()}\\!',\n",
        "        reply_markup=ForceReply(selective=True),\n",
        "    )\n",
        "\n",
        "\n",
        "def help_command(update: Update, context: CallbackContext) -> None:\n",
        "    \"\"\"Send a message when the command /help is issued.\"\"\"\n",
        "    update.message.reply_text('Help!')\n",
        "\n",
        "\n",
        "def echo(update: Update, context: CallbackContext) -> None:\n",
        "    \"\"\"Echo the user message.\"\"\"\n",
        "    uot_text = bot(update.message.text)\n",
        "    update.message.reply_text(uot_text)\n",
        "\n",
        "\n",
        "def main() -> None:\n",
        "    \"\"\"Start the bot.\"\"\"\n",
        "    # Create the Updater and pass it your bot's token.\n",
        "    updater = Updater(\"2066634680:AAGBET2prIZZ19Pm0NXF-dsU77F-Eu7IzPY\")\n",
        "\n",
        "    # Get the dispatcher to register handlers\n",
        "    dispatcher = updater.dispatcher\n",
        "\n",
        "    # on different commands - answer in Telegram\n",
        "    dispatcher.add_handler(CommandHandler(\"start\", start))\n",
        "    dispatcher.add_handler(CommandHandler(\"help\", help_command))\n",
        "\n",
        "    # on non command i.e message - echo the message on Telegram\n",
        "    dispatcher.add_handler(MessageHandler(Filters.text & ~Filters.command, echo))\n",
        "\n",
        "    # Start the Bot\n",
        "    updater.start_polling()\n",
        "\n",
        "    # Run the bot until you press Ctrl-C or the process receives SIGINT,\n",
        "    # SIGTERM or SIGABRT. This should be used most of the time, since\n",
        "    # start_polling() is non-blocking and will stop the bot gracefully.\n",
        "    updater.idle()\n"
      ],
      "execution_count": 97,
      "outputs": []
    },
    {
      "cell_type": "code",
      "metadata": {
        "id": "OScRMk42gQJw",
        "colab": {
          "base_uri": "https://localhost:8080/"
        },
        "outputId": "bea5394b-33f2-4eda-a4c5-16af3f1d092a"
      },
      "source": [
        "main()"
      ],
      "execution_count": 98,
      "outputs": [
        {
          "output_type": "stream",
          "name": "stderr",
          "text": [
            "2021-10-30 17:08:53,322 - apscheduler.scheduler - INFO - Scheduler started\n",
            "2021-10-30 17:22:05,060 - telegram.ext.updater - INFO - Received signal 2 (SIGINT), stopping...\n",
            "2021-10-30 17:22:05,063 - apscheduler.scheduler - INFO - Scheduler has been shut down\n"
          ]
        }
      ]
    },
    {
      "cell_type": "code",
      "metadata": {
        "id": "z7kTwsMPhU-8"
      },
      "source": [
        ""
      ],
      "execution_count": null,
      "outputs": []
    }
  ]
}